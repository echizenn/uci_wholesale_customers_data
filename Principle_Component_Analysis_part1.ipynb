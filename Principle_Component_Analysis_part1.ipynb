{
 "cells": [
  {
   "cell_type": "code",
   "execution_count": 1,
   "metadata": {
    "collapsed": true
   },
   "outputs": [],
   "source": [
    "import numpy as np\n",
    "import pandas as pd\n",
    "import matplotlib.pyplot as plt\n",
    "% matplotlib inline"
   ]
  },
  {
   "cell_type": "code",
   "execution_count": 2,
   "metadata": {
    "collapsed": true
   },
   "outputs": [],
   "source": [
    "data = pd.read_csv('Wholesale_customers_data.csv')"
   ]
  },
  {
   "cell_type": "code",
   "execution_count": 3,
   "metadata": {},
   "outputs": [
    {
     "data": {
      "text/html": [
       "<div>\n",
       "<style>\n",
       "    .dataframe thead tr:only-child th {\n",
       "        text-align: right;\n",
       "    }\n",
       "\n",
       "    .dataframe thead th {\n",
       "        text-align: left;\n",
       "    }\n",
       "\n",
       "    .dataframe tbody tr th {\n",
       "        vertical-align: top;\n",
       "    }\n",
       "</style>\n",
       "<table border=\"1\" class=\"dataframe\">\n",
       "  <thead>\n",
       "    <tr style=\"text-align: right;\">\n",
       "      <th></th>\n",
       "      <th>Channel</th>\n",
       "      <th>Region</th>\n",
       "      <th>Fresh</th>\n",
       "      <th>Milk</th>\n",
       "      <th>Grocery</th>\n",
       "      <th>Frozen</th>\n",
       "      <th>Detergents_Paper</th>\n",
       "      <th>Delicassen</th>\n",
       "    </tr>\n",
       "  </thead>\n",
       "  <tbody>\n",
       "    <tr>\n",
       "      <th>0</th>\n",
       "      <td>2</td>\n",
       "      <td>3</td>\n",
       "      <td>12669</td>\n",
       "      <td>9656</td>\n",
       "      <td>7561</td>\n",
       "      <td>214</td>\n",
       "      <td>2674</td>\n",
       "      <td>1338</td>\n",
       "    </tr>\n",
       "    <tr>\n",
       "      <th>1</th>\n",
       "      <td>2</td>\n",
       "      <td>3</td>\n",
       "      <td>7057</td>\n",
       "      <td>9810</td>\n",
       "      <td>9568</td>\n",
       "      <td>1762</td>\n",
       "      <td>3293</td>\n",
       "      <td>1776</td>\n",
       "    </tr>\n",
       "    <tr>\n",
       "      <th>2</th>\n",
       "      <td>2</td>\n",
       "      <td>3</td>\n",
       "      <td>6353</td>\n",
       "      <td>8808</td>\n",
       "      <td>7684</td>\n",
       "      <td>2405</td>\n",
       "      <td>3516</td>\n",
       "      <td>7844</td>\n",
       "    </tr>\n",
       "    <tr>\n",
       "      <th>3</th>\n",
       "      <td>1</td>\n",
       "      <td>3</td>\n",
       "      <td>13265</td>\n",
       "      <td>1196</td>\n",
       "      <td>4221</td>\n",
       "      <td>6404</td>\n",
       "      <td>507</td>\n",
       "      <td>1788</td>\n",
       "    </tr>\n",
       "    <tr>\n",
       "      <th>4</th>\n",
       "      <td>2</td>\n",
       "      <td>3</td>\n",
       "      <td>22615</td>\n",
       "      <td>5410</td>\n",
       "      <td>7198</td>\n",
       "      <td>3915</td>\n",
       "      <td>1777</td>\n",
       "      <td>5185</td>\n",
       "    </tr>\n",
       "  </tbody>\n",
       "</table>\n",
       "</div>"
      ],
      "text/plain": [
       "   Channel  Region  Fresh  Milk  Grocery  Frozen  Detergents_Paper  Delicassen\n",
       "0        2       3  12669  9656     7561     214              2674        1338\n",
       "1        2       3   7057  9810     9568    1762              3293        1776\n",
       "2        2       3   6353  8808     7684    2405              3516        7844\n",
       "3        1       3  13265  1196     4221    6404               507        1788\n",
       "4        2       3  22615  5410     7198    3915              1777        5185"
      ]
     },
     "execution_count": 3,
     "metadata": {},
     "output_type": "execute_result"
    }
   ],
   "source": [
    "data.head()"
   ]
  },
  {
   "cell_type": "code",
   "execution_count": 4,
   "metadata": {
    "collapsed": true
   },
   "outputs": [],
   "source": [
    "import seaborn as sns"
   ]
  },
  {
   "cell_type": "code",
   "execution_count": null,
   "metadata": {
    "collapsed": true
   },
   "outputs": [],
   "source": [
    "sns.pairplot(data, size=2.0)\n",
    "plt.show()"
   ]
  },
  {
   "cell_type": "code",
   "execution_count": 10,
   "metadata": {
    "collapsed": true
   },
   "outputs": [],
   "source": [
    "from sklearn.preprocessing import StandardScaler\n",
    "scaler = StandardScaler()"
   ]
  },
  {
   "cell_type": "code",
   "execution_count": 7,
   "metadata": {},
   "outputs": [
    {
     "data": {
      "text/plain": [
       "StandardScaler(copy=True, with_mean=True, with_std=True)"
      ]
     },
     "execution_count": 7,
     "metadata": {},
     "output_type": "execute_result"
    }
   ],
   "source": [
    "scaler.fit(data)"
   ]
  },
  {
   "cell_type": "code",
   "execution_count": 8,
   "metadata": {
    "collapsed": true
   },
   "outputs": [],
   "source": [
    "X = data.values"
   ]
  },
  {
   "cell_type": "code",
   "execution_count": 9,
   "metadata": {},
   "outputs": [
    {
     "data": {
      "text/plain": [
       "array([[    2,     3, 12669,  9656,  7561,   214,  2674,  1338],\n",
       "       [    2,     3,  7057,  9810,  9568,  1762,  3293,  1776],\n",
       "       [    2,     3,  6353,  8808,  7684,  2405,  3516,  7844],\n",
       "       [    1,     3, 13265,  1196,  4221,  6404,   507,  1788],\n",
       "       [    2,     3, 22615,  5410,  7198,  3915,  1777,  5185]])"
      ]
     },
     "execution_count": 9,
     "metadata": {},
     "output_type": "execute_result"
    }
   ],
   "source": [
    "X[:5]"
   ]
  },
  {
   "cell_type": "code",
   "execution_count": 11,
   "metadata": {},
   "outputs": [
    {
     "name": "stderr",
     "output_type": "stream",
     "text": [
      "/Users/fukuitomohiro/.pyenv/versions/anaconda3-5.0.1/lib/python3.6/site-packages/sklearn/utils/validation.py:475: DataConversionWarning: Data with input dtype int64 was converted to float64 by StandardScaler.\n",
      "  warnings.warn(msg, DataConversionWarning)\n"
     ]
    },
    {
     "data": {
      "text/plain": [
       "StandardScaler(copy=True, with_mean=True, with_std=True)"
      ]
     },
     "execution_count": 11,
     "metadata": {},
     "output_type": "execute_result"
    }
   ],
   "source": [
    "scaler.fit(X)"
   ]
  },
  {
   "cell_type": "code",
   "execution_count": 12,
   "metadata": {},
   "outputs": [
    {
     "name": "stderr",
     "output_type": "stream",
     "text": [
      "/Users/fukuitomohiro/.pyenv/versions/anaconda3-5.0.1/lib/python3.6/site-packages/sklearn/utils/validation.py:475: DataConversionWarning: Data with input dtype int64 was converted to float64 by StandardScaler.\n",
      "  warnings.warn(msg, DataConversionWarning)\n"
     ]
    }
   ],
   "source": [
    "X_std = scaler.fit_transform(X)"
   ]
  },
  {
   "cell_type": "code",
   "execution_count": 13,
   "metadata": {
    "collapsed": true
   },
   "outputs": [],
   "source": [
    "from sklearn.decomposition import PCA\n",
    "pca = PCA() \n",
    "X_pca = pca.fit_transform(X_std)"
   ]
  },
  {
   "cell_type": "code",
   "execution_count": 14,
   "metadata": {},
   "outputs": [
    {
     "data": {
      "text/plain": [
       "array([[ 0.84393893, -0.51535075, -0.76763222, -0.0442148 , -0.44623405,\n",
       "        -0.93944129,  0.65476177,  0.01810169],\n",
       "       [ 1.06267645, -0.48460126, -0.67297526,  0.40137178, -0.13045815,\n",
       "        -0.86722684,  0.51102248,  0.0778948 ],\n",
       "       [ 1.26914052,  0.68205455, -0.6640946 ,  1.63495276, -1.19381302,\n",
       "        -1.07844165, -0.20315184, -0.2540374 ],\n",
       "       [-1.05678239,  0.6108215 , -0.50565445,  0.19600495,  0.45785461,\n",
       "         0.11695882, -0.31380387,  0.05437712],\n",
       "       [ 0.63403048,  0.97419884, -0.77120882,  0.18637413, -0.81387739,\n",
       "        -1.50537241, -0.16039894,  0.00376343],\n",
       "       [ 0.5301109 , -0.58541138, -0.75862459,  0.24700875, -0.3788392 ,\n",
       "        -1.07255387,  0.65856234, -0.02597659],\n",
       "       [ 0.39956024, -0.84634288, -0.77755246, -0.20696307, -0.1668782 ,\n",
       "        -1.19917041,  0.03631217, -0.03732631],\n",
       "       [ 0.79116565, -0.46114017, -0.69660865,  0.48140348, -0.26155495,\n",
       "        -1.09495488, -0.09240248,  0.06662474],\n",
       "       [-0.66383113, -0.57746545, -0.57448788,  0.21493143, -0.07809964,\n",
       "         0.66109085, -0.08369595,  0.07783492],\n",
       "       [ 2.1506848 , -0.61791398, -0.59073585,  0.26828063, -0.01483981,\n",
       "        -0.40253684, -0.05238603,  0.16918512]])"
      ]
     },
     "execution_count": 14,
     "metadata": {},
     "output_type": "execute_result"
    }
   ],
   "source": [
    "X_pca[:10]"
   ]
  },
  {
   "cell_type": "code",
   "execution_count": 15,
   "metadata": {},
   "outputs": [
    {
     "name": "stdout",
     "output_type": "stream",
     "text": [
      "[0.38750123 0.22374588 0.12647173 0.09229904 0.06957905 0.05741354\n",
      " 0.03514076 0.00784877]\n"
     ]
    }
   ],
   "source": [
    "print(pca.explained_variance_ratio_)"
   ]
  },
  {
   "cell_type": "code",
   "execution_count": 16,
   "metadata": {
    "scrolled": true
   },
   "outputs": [
    {
     "data": {
      "text/plain": [
       "array([[ 7.54944688e-01,  4.35842847e-02, -4.46303218e-02,\n",
       "         8.36237039e-01,  9.45381309e-01, -5.28358138e-02,\n",
       "         9.23483696e-01,  2.90837509e-01],\n",
       "       [-2.74177624e-01,  5.77686819e-02,  6.87717779e-01,\n",
       "         2.75305088e-01, -1.16765495e-02,  7.93934508e-01,\n",
       "        -1.62181045e-01,  7.14152748e-01],\n",
       "       [-8.35619650e-02, -9.89392835e-01, -8.95748711e-02,\n",
       "         2.59317203e-02,  4.56322237e-02,  1.23013413e-01,\n",
       "         4.78145067e-02, -9.36724453e-04],\n",
       "       [ 2.55021545e-02,  6.69678393e-02, -6.86909437e-01,\n",
       "         4.64738344e-02, -1.04597692e-01,  1.38776995e-01,\n",
       "        -1.29912051e-01,  4.62447801e-01],\n",
       "       [-2.70431332e-02,  9.89745285e-02, -1.92794526e-01,\n",
       "        -5.38428227e-02,  8.34541080e-02,  5.63341845e-01,\n",
       "         1.31834635e-01, -4.06946302e-01],\n",
       "       [-5.85884435e-01,  6.09049053e-02, -1.00060779e-01,\n",
       "         2.14358464e-01,  1.44993492e-01, -1.31872120e-01,\n",
       "         1.32817687e-01, -3.70002589e-02],\n",
       "       [ 7.42607575e-02, -1.23573815e-02, -1.44242519e-02,\n",
       "         4.18825260e-01, -1.87412445e-01, -2.83285916e-03,\n",
       "        -1.97131708e-01, -1.62739212e-01],\n",
       "       [ 4.85056581e-03, -3.87597464e-04, -8.49205504e-03,\n",
       "        -9.85681845e-03,  1.79615260e-01, -3.25703496e-03,\n",
       "        -1.73516250e-01, -1.89760674e-02]])"
      ]
     },
     "execution_count": 16,
     "metadata": {},
     "output_type": "execute_result"
    }
   ],
   "source": [
    "pca.components_ * np.sqrt(pca.explained_variance_)[:, np.newaxis]"
   ]
  },
  {
   "cell_type": "code",
   "execution_count": 30,
   "metadata": {
    "collapsed": true
   },
   "outputs": [],
   "source": [
    "from sklearn.cluster import KMeans\n",
    "km = KMeans(n_clusters=3,   # クラスタの個数を指定\n",
    "            init='random',  # セントロイドの初期値の決め方を決定\n",
    "            n_init=20,      # 異なるセントロイドの初期値を用いての実行回数\n",
    "            max_iter=300,   # ひとつのセントロイドを用いたときの最大イテレーション回数\n",
    "            tol=1e-04,      # 収束と判定するための相対的な許容誤差\n",
    "            random_state=0, # セントロイドの初期化に用いる乱数生成器の状態\n",
    "           )\n",
    "\n",
    "# クラスラベルを予測\n",
    "y_km = km.fit_predict(X_pca[:, 0:2])"
   ]
  },
  {
   "cell_type": "code",
   "execution_count": 31,
   "metadata": {
    "collapsed": true
   },
   "outputs": [],
   "source": [
    "def kmeans_plot(n_clusters, km, X):\n",
    "    # クラスタの予測値を算出\n",
    "    y_km = km.fit_predict(X)\n",
    "    \n",
    "    # クラスタごとに散布図をプロット\n",
    "    # 5クラスまでプロットできる\n",
    "    for i, color, marker in zip(range(n_clusters), 'rgbcm', '>o+xv'):\n",
    "        plt.scatter(X[y_km==i, 0],            # 横軸の値\n",
    "                    X[y_km==i, 1],            # 縦軸の値\n",
    "                    color=color,              # プロットの色\n",
    "                    marker=marker,            # プロットの形\n",
    "                    label='cluster ' + str(i) # ラベル\n",
    "                   )\n",
    "    \n",
    "    # クラスタの中心をプロット\n",
    "    plt.scatter(km.cluster_centers_[:, 0],    # 横軸の値\n",
    "                km.cluster_centers_[:, 1],    # 縦軸の値\n",
    "                color='y',                    # プロットの色\n",
    "                marker='*',                   # プロットの形\n",
    "                label='centroids',            # ラベル\n",
    "                s=300,                        # プロットのサイズを大きくして見やすくする\n",
    "               )\n",
    "    \n",
    "    plt.legend()\n",
    "    plt.grid()\n",
    "    plt.show()"
   ]
  },
  {
   "cell_type": "code",
   "execution_count": 32,
   "metadata": {},
   "outputs": [
    {
     "data": {
      "image/png": "[encoded data removed]",
      "text/plain": [
       "<matplotlib.figure.Figure at 0x11590cc88>"
      ]
     },
     "metadata": {},
     "output_type": "display_data"
    }
   ],
   "source": [
    "kmeans_plot(3, km, X_pca[:, 0:2])"
   ]
  },
  {
   "cell_type": "code",
   "execution_count": 33,
   "metadata": {},
   "outputs": [
    {
     "data": {
      "image/png": "[encoded data removed]",
      "text/plain": [
       "<matplotlib.figure.Figure at 0x11590c780>"
      ]
     },
     "metadata": {},
     "output_type": "display_data"
    }
   ],
   "source": [
    "distortions = []\n",
    "\n",
    "# kを変えながらk-means法を実行\n",
    "for k  in range(1,11):              # 1~10クラスタまで繰り返し計算 \n",
    "    km = KMeans(n_clusters=k,       # クラスタの数をk個に指定\n",
    "                init='random',   \n",
    "                n_init=20,          # セントロイドの初期値を変えての繰り返し回数を指定\n",
    "                max_iter=300,       # 一回の最適化の繰り返し回数を指定\n",
    "                random_state=0)     # 乱数の生成状態を指定\n",
    "    \n",
    "    km.fit(X_pca[:, 0:2])                       # クラスタリングの計算を実行\n",
    "    distortions.append(km.inertia_) # SSEをリストに格納していく\n",
    "\n",
    "# 結果を散布図に出力\n",
    "plt.plot(range(1,11), distortions,marker='o') # 1から10までのSSEを順にプロット\n",
    "plt.xticks([i for i in range(1, 11)])         # 横軸のメモリを1から10までの1刻みに設定\n",
    "plt.xlabel('Number of clusters')\n",
    "plt.ylabel('Distortion')\n",
    "plt.show()"
   ]
  },
  {
   "cell_type": "code",
   "execution_count": 34,
   "metadata": {},
   "outputs": [
    {
     "data": {
      "text/plain": [
       "array([1, 1, 1, 2, 2, 1, 1, 1, 2, 1, 1, 2, 1, 1, 1, 2, 1, 2, 1, 2, 2, 2,\n",
       "       2, 0, 1, 1, 2, 2, 1, 2, 2, 2, 2, 2, 2, 1, 2, 1, 1, 2, 2, 2, 1, 1,\n",
       "       1, 1, 1, 0, 1, 1, 2, 2, 2, 1, 2, 2, 1, 1, 2, 2, 1, 0, 1, 1, 2, 0,\n",
       "       2, 1, 2, 2, 2, 2, 2, 2, 1, 2, 2, 1, 2, 2, 2, 1, 1, 2, 1, 0, 0, 2,\n",
       "       2, 2, 2, 2, 0, 2, 1, 2, 1, 2, 2, 2, 1, 1, 1, 2, 2, 2, 1, 1, 1, 1,\n",
       "       2, 1, 2, 2, 2, 2, 2, 2, 2, 2, 2, 2, 2, 1, 2, 2, 2, 1, 2, 2, 2, 2,\n",
       "       2, 2, 2, 2, 2, 2, 2, 2, 2, 2, 2, 2, 2, 1, 2, 2, 2, 2, 2, 2, 2, 2,\n",
       "       2, 1, 1, 2, 1, 1, 1, 2, 2, 1, 1, 1, 1, 2, 2, 2, 1, 1, 2, 1, 2, 1,\n",
       "       2, 2, 2, 2, 2, 0, 1, 0, 2, 2, 2, 2, 1, 1, 2, 2, 2, 1, 2, 2, 2, 1,\n",
       "       2, 2, 1, 1, 2, 2, 2, 1, 2, 1, 2, 1, 2, 0, 2, 2, 1, 1, 1, 2, 1, 2,\n",
       "       2, 2, 2, 2, 2, 2, 1, 2, 2, 2, 2, 2, 2, 2, 2, 2, 2, 2, 2, 2, 2, 2,\n",
       "       2, 2, 2, 1, 2, 2, 2, 2, 2, 0, 2, 2, 2, 2, 2, 2, 2, 2, 2, 2, 2, 2,\n",
       "       1, 1, 1, 2, 1, 2, 2, 2, 2, 2, 2, 2, 2, 2, 2, 1, 2, 1, 2, 2, 2, 2,\n",
       "       2, 2, 2, 2, 2, 2, 2, 1, 2, 1, 2, 1, 1, 2, 1, 1, 1, 1, 1, 1, 1, 2,\n",
       "       2, 1, 2, 2, 1, 2, 2, 1, 2, 2, 2, 1, 2, 2, 2, 2, 2, 0, 2, 2, 2, 2,\n",
       "       2, 1, 2, 0, 2, 1, 2, 2, 2, 2, 1, 1, 2, 1, 2, 2, 1, 1, 2, 1, 2, 1,\n",
       "       2, 1, 2, 2, 2, 1, 2, 2, 2, 2, 2, 2, 2, 1, 2, 2, 2, 2, 2, 2, 2, 1,\n",
       "       2, 2, 1, 2, 2, 1, 2, 2, 2, 2, 1, 2, 2, 2, 2, 2, 2, 2, 2, 2, 2, 2,\n",
       "       1, 2, 2, 2, 2, 2, 2, 2, 2, 2, 2, 1, 1, 2, 2, 2, 2, 2, 2, 1, 1, 2,\n",
       "       1, 2, 1, 1, 2, 2, 1, 2, 1, 2, 2, 2, 2, 2, 2, 2, 2, 2, 2, 1, 2, 2],\n",
       "      dtype=int32)"
      ]
     },
     "execution_count": 34,
     "metadata": {},
     "output_type": "execute_result"
    }
   ],
   "source": [
    "y_km"
   ]
  },
  {
   "cell_type": "code",
   "execution_count": 35,
   "metadata": {},
   "outputs": [
    {
     "data": {
      "text/plain": [
       "13"
      ]
     },
     "execution_count": 35,
     "metadata": {},
     "output_type": "execute_result"
    }
   ],
   "source": [
    "np.sum(y_km==0)"
   ]
  },
  {
   "cell_type": "markdown",
   "metadata": {},
   "source": [
    "#明らかに、クラスター０の要素数が少ないので、クラスター０を外れ値として扱って再分析してみる"
   ]
  },
  {
   "cell_type": "code",
   "execution_count": 36,
   "metadata": {
    "collapsed": true
   },
   "outputs": [],
   "source": [
    "X_new = X[y_km!=0]"
   ]
  },
  {
   "cell_type": "code",
   "execution_count": 38,
   "metadata": {
    "collapsed": true
   },
   "outputs": [],
   "source": [
    "X_new_pca = pca.transform(X_new)"
   ]
  },
  {
   "cell_type": "code",
   "execution_count": 39,
   "metadata": {},
   "outputs": [
    {
     "name": "stdout",
     "output_type": "stream",
     "text": [
      "[0.38750123 0.22374588 0.12647173 0.09229904 0.06957905 0.05741354\n",
      " 0.03514076 0.00784877]\n"
     ]
    }
   ],
   "source": [
    "print(pca.explained_variance_ratio_)"
   ]
  },
  {
   "cell_type": "code",
   "execution_count": 42,
   "metadata": {
    "collapsed": true
   },
   "outputs": [],
   "source": [
    "from sklearn.cluster import KMeans\n",
    "km = KMeans(n_clusters=3,   # クラスタの個数を指定\n",
    "            init='random',  # セントロイドの初期値の決め方を決定\n",
    "            n_init=20,      # 異なるセントロイドの初期値を用いての実行回数\n",
    "            max_iter=300,   # ひとつのセントロイドを用いたときの最大イテレーション回数\n",
    "            tol=1e-04,      # 収束と判定するための相対的な許容誤差\n",
    "            random_state=0, # セントロイドの初期化に用いる乱数生成器の状態\n",
    "           )\n",
    "\n",
    "# クラスラベルを予測\n",
    "y_new_km = km.fit_predict(X_new_pca[:, 0:2])"
   ]
  },
  {
   "cell_type": "code",
   "execution_count": 43,
   "metadata": {},
   "outputs": [
    {
     "data": {
      "image/png": "[encoded data removed]",
      "text/plain": [
       "<matplotlib.figure.Figure at 0x114f55080>"
      ]
     },
     "metadata": {},
     "output_type": "display_data"
    }
   ],
   "source": [
    "kmeans_plot(3, km, X_new_pca[:, 0:2])"
   ]
  },
  {
   "cell_type": "code",
   "execution_count": 44,
   "metadata": {},
   "outputs": [
    {
     "data": {
      "image/png": "[encoded data removed]",
      "text/plain": [
       "<matplotlib.figure.Figure at 0x114bbc400>"
      ]
     },
     "metadata": {},
     "output_type": "display_data"
    }
   ],
   "source": [
    "distortions = []\n",
    "\n",
    "# kを変えながらk-means法を実行\n",
    "for k  in range(1,11):              # 1~10クラスタまで繰り返し計算 \n",
    "    km = KMeans(n_clusters=k,       # クラスタの数をk個に指定\n",
    "                init='random',   # セントロイドの初期値をk-means++法で設定\n",
    "                n_init=20,          # セントロイドの初期値を変えての繰り返し回数を指定\n",
    "                max_iter=300,       # 一回の最適化の繰り返し回数を指定\n",
    "                random_state=0)     # 乱数の生成状態を指定\n",
    "    \n",
    "    km.fit(X_new_pca[:, 0:2])                       # クラスタリングの計算を実行\n",
    "    distortions.append(km.inertia_) # SSEをリストに格納していく\n",
    "\n",
    "# 結果を散布図に出力\n",
    "plt.plot(range(1,11), distortions,marker='o') # 1から10までのSSEを順にプロット\n",
    "plt.xticks([i for i in range(1, 11)])         # 横軸のメモリを1から10までの1刻みに設定\n",
    "plt.xlabel('Number of clusters')\n",
    "plt.ylabel('Distortion')\n",
    "plt.show()"
   ]
  },
  {
   "cell_type": "markdown",
   "metadata": {},
   "source": [
    "#クラスター数3のところで急激に上昇しているので、全ての変数を使った場合上の3つの分割が適切だと思われる。\n",
    "#また、因子負荷量は　In[16] から、第一成分はGroceryとDetegents_paperとMilkが1に近く、第二成分はFrozenとDelicassenが1に近い。\n",
    "#これと、In[43]のグラフから判断すると、cluster0はFrozenとDelicassenという、どちらも手軽に調理できるものを強みにしているスーパーであり、cluster1はバランスよく取り扱っている一般的なスーパー(数も多い)であり、cluaster2は食料品や乳製品などの日々使うものを多く取り扱っているスーパーだと分析できる。"
   ]
  }
 ],
 "metadata": {
  "kernelspec": {
   "display_name": "Python 3",
   "language": "python",
   "name": "python3"
  },
  "language_info": {
   "codemirror_mode": {
    "name": "ipython",
    "version": 3
   },
   "file_extension": ".py",
   "mimetype": "text/x-python",
   "name": "python",
   "nbconvert_exporter": "python",
   "pygments_lexer": "ipython3",
   "version": "3.6.3"
  }
 },
 "nbformat": 4,
 "nbformat_minor": 2
}
